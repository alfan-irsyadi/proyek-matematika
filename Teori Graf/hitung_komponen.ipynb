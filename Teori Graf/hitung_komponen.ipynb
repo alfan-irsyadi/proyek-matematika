{
 "cells": [
  {
   "cell_type": "markdown",
   "id": "b69dcea9",
   "metadata": {},
   "source": [
    "# Program Hitung Komponen di Python\n",
    "### Muhammad Alfan Irsyadi Hutagalung - [190803102]\n",
    "https://instagram.com/alfanirsyadi_/"
   ]
  },
  {
   "cell_type": "code",
   "execution_count": 1,
   "id": "db188f50",
   "metadata": {},
   "outputs": [],
   "source": [
    "import numpy as np"
   ]
  },
  {
   "cell_type": "code",
   "execution_count": 69,
   "id": "d6f7d330",
   "metadata": {},
   "outputs": [],
   "source": [
    "msisi = np.array([\n",
    "    [1, 4],\n",
    "    [5, 7],\n",
    "    [3, 4],\n",
    "    [2, 3],\n",
    "    [5, 6],\n",
    "    [7, 8],\n",
    "    [1, 2],\n",
    "    [6, 8],\n",
    "])"
   ]
  },
  {
   "cell_type": "code",
   "execution_count": 66,
   "id": "0f48b10f",
   "metadata": {},
   "outputs": [],
   "source": [
    "def hitung_komponen(matriks_sisi, banyak_titik):\n",
    "    banyak_komponen = banyak_titik\n",
    "    komponen = np.arange(1, banyak_komponen+1)        \n",
    "    for sisi_ke_i in matriks_sisi:\n",
    "        a , b = sisi_ke_i # contoh: jika sisi ke-i = (1,2), maka a = 1 dan b = 2\n",
    "        if komponen[a-1] != komponen[b-1]:            \n",
    "            banyak_komponen -= 1\n",
    "            mini, maxi = komponen[a-1], komponen[b-1]            \n",
    "            if mini > maxi:\n",
    "                mini, maxi = maxi, mini # tukar tempat\n",
    "            komponen[maxi-1] = komponen[mini-1]        \n",
    "            for titik in range(1, banyak_titik+1):\n",
    "                if komponen[titik-1] == maxi:                    \n",
    "                    komponen[titik-1] = mini        \n",
    "    return banyak_komponen, komponen"
   ]
  },
  {
   "cell_type": "code",
   "execution_count": 68,
   "id": "1b6bd5c0",
   "metadata": {},
   "outputs": [
    {
     "name": "stdout",
     "output_type": "stream",
     "text": [
      "Banyak komponen : 2\n",
      "Komponen        : [1 1 1 1 5 5 5 5]\n"
     ]
    }
   ],
   "source": [
    "banyak_komponen, komponen = hitung_komponen(msisi, 8)\n",
    "print(f'Banyak komponen : {banyak_komponen}')\n",
    "print(f'Komponen        : {komponen}')"
   ]
  },
  {
   "cell_type": "markdown",
   "id": "666dfac5",
   "metadata": {},
   "source": [
    "# Source Code in MATLAB (.m)"
   ]
  },
  {
   "cell_type": "markdown",
   "id": "ae704abd",
   "metadata": {},
   "source": [
    "```Matlab\n",
    "% Source code by M Alfan Irsyadi Htg\n",
    "% NOTE : source code belum tentu sama persis dengan punnya pak saib\n",
    "\n",
    "function [hitung, komponena] = hitung_komponen(matriks_sisi, banyak_titik)\n",
    "banyak_sisi = size(matriks_sisi,1); \n",
    "hitung_komponen = banyak_titik; \n",
    "komponen = 1:banyak_titik;\n",
    "for sisi = 1:banyak_sisi\n",
    "    ujung_kiri = matriks_sisi(sisi,1); ujung_kanan = matriks_sisi(sisi,2);\n",
    "    if komponen(ujung_kiri) ~= komponen(ujung_kanan)        \n",
    "        hitung_komponen =  hitung_komponen-1;\n",
    "        mini = komponen(ujung_kiri); maxi= komponen(ujung_kanan);\n",
    "        if mini > maxi\n",
    "            mini = komponen(ujung_kanan);\n",
    "            maxi = komponen(ujung_kiri);\n",
    "        end\n",
    "        komponen(maxi) = komponen(mini);\n",
    "        for i = 1:banyak_titik\n",
    "            if komponen(i) == maxi\n",
    "                komponen(i) = komponen(mini);\n",
    "            end\n",
    "        end\n",
    "    end    \n",
    "end\n",
    "hitung = hitung_komponen; komponena = komponen;\n",
    "end\n",
    "```"
   ]
  }
 ],
 "metadata": {
  "kernelspec": {
   "display_name": "Python 3 (ipykernel)",
   "language": "python",
   "name": "python3"
  },
  "language_info": {
   "codemirror_mode": {
    "name": "ipython",
    "version": 3
   },
   "file_extension": ".py",
   "mimetype": "text/x-python",
   "name": "python",
   "nbconvert_exporter": "python",
   "pygments_lexer": "ipython3",
   "version": "3.11.4"
  }
 },
 "nbformat": 4,
 "nbformat_minor": 5
}
